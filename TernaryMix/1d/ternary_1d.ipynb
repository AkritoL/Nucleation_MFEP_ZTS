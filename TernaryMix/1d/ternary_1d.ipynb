{
 "cells": [
  {
   "cell_type": "code",
   "execution_count": 1,
   "metadata": {},
   "outputs": [
    {
     "name": "stderr",
     "output_type": "stream",
     "text": [
      "2024-02-08 14:10:18.826957: W external/org_tensorflow/tensorflow/compiler/xla/service/platform_util.cc:198] unable to create StreamExecutor for CUDA:0: failed initializing StreamExecutor for CUDA device ordinal 0: INTERNAL: failed call to cuDevicePrimaryCtxRetain: CUDA_ERROR_OUT_OF_MEMORY: out of memory; total memory reported: 85045215232\n"
     ]
    },
    {
     "name": "stdout",
     "output_type": "stream",
     "text": [
      "0.010000000000000002\n",
      "0.010000000000000005\n",
      "0.010000000000000005\n"
     ]
    }
   ],
   "source": [
    "import jax.numpy as jnp\n",
    "import jax\n",
    "import matplotlib.pyplot as plt\n",
    "import numpy as np\n",
    "from line_profiler import LineProfiler\n",
    "from contextlib import redirect_stdout\n",
    "jax.config.update(\"jax_enable_x64\", True)\n",
    "\n",
    "### THE ITERATION PARAMETERs\n",
    "#physical parameters\n",
    "delta = 0.012 #interface width\n",
    "Lambda = delta/(2*jnp.sqrt(2))\n",
    "\n",
    "gamma_ab = 1e-2 #interface energy between components A,B\n",
    "gamma_bc = 1e-2\n",
    "gamma_ca = 1e-2\n",
    "gamma = jnp.array([gamma_ab, gamma_bc, gamma_ca])\n",
    "\n",
    "Aa = (9*gamma_ab + 12*(gamma_ca - gamma_bc))/(4*jnp.sqrt(2)*Lambda)\n",
    "Ab = (9*gamma_ab - 12*(gamma_ca - gamma_bc))/(4*jnp.sqrt(2)*Lambda)\n",
    "Ac = 3*jnp.sqrt(2)*gamma_ca/Lambda - 4*Aa/3 - Ab/3\n",
    "A = jnp.array([Aa, Ab, Ac])\n",
    "\n",
    "C = jnp.max(A + jnp.roll(A, 1))/6\n",
    "\n",
    "print(jnp.sqrt(2)*Lambda*(Aa + Ab + 2*C)/6)\n",
    "print(jnp.sqrt(2)*Lambda*(Ac + Ab + 2*C)/6)\n",
    "print(jnp.sqrt(2)*Lambda*(Aa + Ac + 2*C)/6)\n",
    "#mean concentration of phase C\n",
    "mean_uc = 8.74e-2 \n",
    "\n",
    "'''\n",
    "h = 2e-6 # time-step (limited by the ODE step but independent of n1)\n",
    "N = 2000 #num of nodes\n",
    "\n",
    "该参数下gamma均等于1e-2,是否发生相分离的临界是mean_uc = 8.74e-2\n",
    "'''\n",
    "\n",
    "#numerical parameters\n",
    "stepmax = 150000 # max number of iterations\n",
    "tol = 5e-8 # parameter used as stopping criterion\n",
    "h = 2e-6 # time-step (limited by the ODE step but independent of n1)\n",
    "N = 2000 #num of nodes\n",
    "eps = 1e-14 #用于处理在计算化学势时P约等于0所引起的numerical error\n",
    "\n",
    "#meshigird\n",
    "l = 1\n",
    "dr = l/N\n",
    "r = jnp.linspace(0, l, N+1)\n",
    "r_mid = (r[1:] + r[:-1]) / 2"
   ]
  },
  {
   "cell_type": "code",
   "execution_count": 2,
   "metadata": {},
   "outputs": [
    {
     "name": "stdout",
     "output_type": "stream",
     "text": [
      "True\n"
     ]
    },
    {
     "data": {
      "image/png": "[encoded data removed]",
      "text/plain": [
       "<Figure size 640x480 with 1 Axes>"
      ]
     },
     "metadata": {},
     "output_type": "display_data"
    }
   ],
   "source": [
    "#the initial profile\n",
    "def initial(x_interface):\n",
    "    uc = jnp.full(N, mean_uc)\n",
    "    ua = jnp.full(N, 1 - mean_uc)\n",
    "    ub = jnp.full(N, 1 - mean_uc)\n",
    "    check_a = r_mid<x_interface\n",
    "    check_b = r_mid>x_interface\n",
    "    ua = jnp.where(check_a, 0, ua)\n",
    "    ub = jnp.where(check_b, 0, ub)\n",
    "    return ua, ub, uc\n",
    "\n",
    "def concentration_profile(ua, ub, uc, gottitle, issavefig, show):\n",
    "    plt.figure(1)\n",
    "    plt.plot(r_mid, ua, 'r', label=\"phase a\")\n",
    "    plt.plot(r_mid, ub, 'b', label=\"phase b\")\n",
    "    plt.plot(r_mid, uc, 'g', label=\"phase c\")\n",
    "    plt.legend(fontsize=7)\n",
    "    if gottitle==True: plt.title(f\"final concentration profiles with initial phi-c {mean_uc}\")\n",
    "    plt.xlim(0, 1)\n",
    "    plt.ylim(-0.1, 1.1)\n",
    "    if issavefig == True: pass\n",
    "        #plt.savefig(f\"result-{method}/result-c_uniform-{c_uniform}/concentration_profile_2D_{method}_{c_uniform}.png\")\n",
    "    if show == True: plt.show()\n",
    "\n",
    "\n",
    "ua, ub, uc = initial(x_interface=0.5)\n",
    "print(jnp.all(ua + ub + uc == 1))#判断全空间上三个组分的浓度是否和为1\n",
    "concentration_profile(ua, ub, uc, gottitle=False, issavefig=False, show=True)"
   ]
  },
  {
   "cell_type": "code",
   "execution_count": 3,
   "metadata": {},
   "outputs": [
    {
     "name": "stdout",
     "output_type": "stream",
     "text": [
      "[[-1.  1.  0.  0.  0.]\n",
      " [ 1. -2.  1.  0.  0.]\n",
      " [ 0.  1. -2.  1.  0.]\n",
      " [ 0.  0.  1. -2.  1.]\n",
      " [ 0.  0.  0.  1. -1.]]\n",
      "[[-1.  1.  0.  0.  0.]\n",
      " [-1.  0.  1.  0.  0.]\n",
      " [ 0. -1.  0.  1.  0.]\n",
      " [ 0.  0. -1.  0.  1.]\n",
      " [ 0.  0.  0. -1.  1.]]\n"
     ]
    }
   ],
   "source": [
    "def laplace_NeumannBoundary(N):\n",
    "    factor = np.ones(N-1)\n",
    "    diag1 = np.concatenate([factor, np.array([0.])])\n",
    "    diag2 = np.concatenate([np.array([0.]), factor])\n",
    "    diag = - (diag1 + diag2)\n",
    "    M = np.diag(diag)\n",
    "    np.fill_diagonal(M[: -1, 1:], factor)  \n",
    "    np.fill_diagonal(M[1:, : -1], factor) \n",
    "    L = jnp.array(M) * N**2\n",
    "    return L\n",
    "\n",
    "def gradient_NeumannBoundary(N):\n",
    "    diag = jnp.zeros(N)\n",
    "    diag1 = jnp.ones(N-1)\n",
    "    M = np.diag(diag)\n",
    "    np.fill_diagonal(M[: -1, 1:], diag1)  \n",
    "    np.fill_diagonal(M[1:, : -1], -diag1) \n",
    "    M[0,0] = -1\n",
    "    M[-1, -1] = 1\n",
    "    D = jnp.array(M)*N/2\n",
    "    return D\n",
    "\n",
    "L = laplace_NeumannBoundary(N)\n",
    "D = gradient_NeumannBoundary(N)\n",
    "\n",
    "print(laplace_NeumannBoundary(5)/(5**2))\n",
    "print(gradient_NeumannBoundary(5)*2/5)"
   ]
  },
  {
   "cell_type": "code",
   "execution_count": 4,
   "metadata": {},
   "outputs": [
    {
     "name": "stdout",
     "output_type": "stream",
     "text": [
      "iteration 0 has done, err 0.8174484072952458\n",
      "iteration 10000 has done, err 4.0194526245126125e-05\n",
      "iteration 20000 has done, err 9.653466053822823e-06\n",
      "iteration 30000 has done, err 3.953823687587055e-06\n",
      "iteration 40000 has done, err 3.7287495084863646e-06\n",
      "iteration 50000 has done, err 3.346289163058558e-05\n",
      "iteration 60000 has done, err 0.0005732490928978248\n",
      "iteration 70000 has done, err 6.55477021113371e-05\n",
      "iteration 80000 has done, err 7.136342944764147e-06\n",
      "iteration 90000 has done, err 8.250516977401988e-07\n",
      "iteration 100000 has done, err 1.0262720126554921e-07\n",
      "iteration 110000 has done, err 1.3663964560020845e-08\n",
      "iteration 120000 has done, err 1.9362102691759354e-09\n",
      "iteration 130000 has done, err 3.035951698082214e-10\n",
      "iteration 140000 has done, err 6.76980329442128e-11\n",
      "[0.99980067 0.99980067 0.99980067 ... 0.99980067 0.99980067 0.99980067]\n",
      "False\n",
      "Timer unit: 1e-09 s\n",
      "\n",
      "Total time: 18.173 s\n",
      "File: /tmp/ipykernel_1653036/2776112900.py\n",
      "Function: main_loop at line 27\n",
      "\n",
      "Line #      Hits         Time  Per Hit   % Time  Line Contents\n",
      "==============================================================\n",
      "    27                                           def main_loop(ua, ub, uc):\n",
      "    28    150001   29277470.0    195.2      0.2      for step in range(stepmax):\n",
      "    29    150000  143132968.0    954.2      0.8          ua0 = ua\n",
      "    30    150000   83261148.0    555.1      0.5          ub0 = ub\n",
      "    31    150000  121288583.0    808.6      0.7          uc0 = uc\n",
      "    32    150000        2e+10 115946.0     95.7          ua, ub, uc = IMEX(ua, ub, uc)\n",
      "    33    150000   87030232.0    580.2      0.5          if step%10000==0: \n",
      "    34        15  286161725.0    2e+07      1.6              err = (jnp.linalg.norm(ua - ua0) + jnp.linalg.norm(ub - ub0) + jnp.linalg.norm(uc - uc0)) / 3\n",
      "    35        15   30990758.0    2e+06      0.2              print(f\"iteration {step} has done, err {err}\")\n",
      "    36         1        670.0    670.0      0.0      return ua, ub, uc\n",
      "\n"
     ]
    },
    {
     "data": {
      "image/png": "[encoded data removed]",
      "text/plain": [
       "<Figure size 640x480 with 1 Axes>"
      ]
     },
     "metadata": {},
     "output_type": "display_data"
    }
   ],
   "source": [
    "#compute the interface chemical potential\n",
    "@jax.jit\n",
    "def cal_ChemicalPotential(i, u, S, P):#u为某一组分i的浓度profile\n",
    "    mu = 2*A[i]*u*(1 - u)*(1 - 2*u) + 2*C*(u*(S - u**2) - (1-u)*(P + eps)/(jnp.power(1-u, 2) + eps))\n",
    "    return mu\n",
    "\n",
    "\n",
    "matrix1 = jnp.linalg.inv(jnp.eye(N) + h*jnp.power(Lambda,2)*(A[0]+C)*jnp.dot(L, L))\n",
    "matrix2 = jnp.linalg.inv(jnp.eye(N) + h*jnp.power(Lambda,2)*(A[1]+C)*jnp.dot(L, L))\n",
    "matrix3 = jnp.linalg.inv(jnp.eye(N) + h*jnp.power(Lambda,2)*(A[2]+C)*jnp.dot(L, L))\n",
    "\n",
    "@jax.jit\n",
    "def IMEX(ua, ub, uc):\n",
    "    S = ua**2 + ub**2 +uc**2\n",
    "    P = jnp.power(1-ua, 2)*jnp.power(1-ub, 2)*jnp.power(1-uc, 2)\n",
    "\n",
    "    matrix_a = ua + h * jnp.dot(L, cal_ChemicalPotential(0, ua, S, P))\n",
    "    matrix_b = ub + h * jnp.dot(L, cal_ChemicalPotential(1, ub, S, P))   \n",
    "    matrix_c = uc + h * jnp.dot(L, cal_ChemicalPotential(2, uc, S, P))\n",
    "\n",
    "    ua_new = jnp.dot(matrix1, matrix_a)\n",
    "    ub_new = jnp.dot(matrix2, matrix_b)\n",
    "    uc_new = jnp.dot(matrix3, matrix_c)\n",
    "    \n",
    "    return ua_new, ub_new, uc_new\n",
    "\n",
    "def main_loop(ua, ub, uc):\n",
    "    for step in range(stepmax):\n",
    "        ua0 = ua\n",
    "        ub0 = ub\n",
    "        uc0 = uc\n",
    "        ua, ub, uc = IMEX(ua, ub, uc)\n",
    "        if step%10000==0: \n",
    "            err = (jnp.linalg.norm(ua - ua0) + jnp.linalg.norm(ub - ub0) + jnp.linalg.norm(uc - uc0)) / 3\n",
    "            print(f\"iteration {step} has done, err {err}\")\n",
    "    return ua, ub, uc\n",
    "\n",
    "\n",
    "lp = LineProfiler()\n",
    "func = lp(main_loop)\n",
    "ua, ub, uc = func(ua, ub, uc)\n",
    "print(ua + ub + uc)\n",
    "print(jnp.all(ua + ub + uc == 1))#判断全空间上三个组分的浓度是否和为1\n",
    "lp.print_stats()\n",
    "\n",
    "concentration_profile(ua, ub, uc, gottitle=True, issavefig=False, show=True)"
   ]
  }
 ],
 "metadata": {
  "kernelspec": {
   "display_name": "jax-cpu",
   "language": "python",
   "name": "python3"
  },
  "language_info": {
   "codemirror_mode": {
    "name": "ipython",
    "version": 3
   },
   "file_extension": ".py",
   "mimetype": "text/x-python",
   "name": "python",
   "nbconvert_exporter": "python",
   "pygments_lexer": "ipython3",
   "version": "3.10.0"
  }
 },
 "nbformat": 4,
 "nbformat_minor": 2
}
