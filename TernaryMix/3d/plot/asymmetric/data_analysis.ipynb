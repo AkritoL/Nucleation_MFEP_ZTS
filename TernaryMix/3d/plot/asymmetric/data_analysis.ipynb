{
 "cells": [
  {
   "cell_type": "code",
   "execution_count": 1,
   "metadata": {},
   "outputs": [],
   "source": [
    "import jax.numpy as jnp\n",
    "import numpy as np\n",
    "import matplotlib.pyplot as plt\n",
    "import os\n",
    "import sympy as sp\n",
    "os.environ[\"CUDA_VISIBLE_DEVICES\"] = \"1\"\n",
    "import jax\n",
    "jax.config.update(\"jax_enable_x64\", True)\n",
    "from tqdm import *\n",
    "\n",
    "### THE ITERATION PARAMETERs\n",
    "#physical parameters\n",
    "delta = 0.024 #interface width\n",
    "Lambda = jnp.sqrt(2)*delta/4\n",
    "g_ca = [3e-3, 5e-3, 6e-3, 7e-3, 8e-3, 9e-3, 1e-2, 1.1e-2, 1.2e-2, 1.3e-2, 1.5e-2]\n",
    "gamma_bc = 1e-2\n",
    "gamma_ab = 1e-2  \n",
    "\n",
    "image_num = 50\n",
    "N = 128 #num of nodes\n",
    "r = jnp.linspace(0, 1, N+1)\n",
    "r_mid = (r[1:] + r[:-1]) / 2\n",
    "dr = r_mid[1] - r_mid[0]"
   ]
  },
  {
   "cell_type": "code",
   "execution_count": 2,
   "metadata": {},
   "outputs": [
    {
     "name": "stdout",
     "output_type": "stream",
     "text": [
      "[0.4437500000000001, 0.40625, 0.3875000000000001, 0.36874999999999997, 0.34999999999999987, 0.33124999999999993, 0.3125, 0.39098125, 0.47519999999999996, 0.56298125, 0.73828125]\n"
     ]
    }
   ],
   "source": [
    "def cal_theoretical_angle(g_ca):\n",
    "    gamma_ab = 1e-2\n",
    "    gamma_bc = 1e-2\n",
    "    x, y = sp.symbols('x y')\n",
    "    eq1 = g_ca*sp.cos(x) + gamma_bc*sp.cos(y) - gamma_ab\n",
    "    eq2 = gamma_bc*sp.sin(y) - g_ca*sp.sin(x)\n",
    "    solution = sp.solve([eq1, eq2], (x, y))\n",
    "    angle = solution[-1]\n",
    "    return angle\n",
    "\n",
    "def cal_shapefactor1(Angle):\n",
    "    theta = float(Angle[0])\n",
    "    phi = float(Angle[1])\n",
    "    s1 = (2+jnp.cos(theta))*jnp.power(1-jnp.cos(theta), 2)/4\n",
    "    s2 = (2+jnp.cos(phi))*(1-jnp.cos(phi))*jnp.power(jnp.sin(theta), 3)\n",
    "    s3 = 4*(1+jnp.cos(phi))*jnp.sin(phi)\n",
    "    S = s1 + (s2/s3)\n",
    "    return S\n",
    "\n",
    "def cal_shapefactor2(Angle):\n",
    "    phi = float(Angle[0])\n",
    "    theta = float(Angle[1])\n",
    "    s1 = (2+jnp.cos(theta))*jnp.power(1-jnp.cos(theta), 2)/4\n",
    "    s2 = (2+jnp.cos(phi))*(1-jnp.cos(phi))*jnp.power(jnp.sin(theta), 3)\n",
    "    s3 = 4*(1+jnp.cos(phi))*jnp.sin(phi)\n",
    "    S = s1 + (s2/s3)\n",
    "    return S\n",
    "\n",
    "sf = []\n",
    "for gamma_ca in g_ca:\n",
    "    angle = cal_theoretical_angle(g_ca=gamma_ca)\n",
    "    if gamma_ca < 1e-2: sf.append(float(cal_shapefactor1(Angle=angle)))\n",
    "    else: sf.append(float(cal_shapefactor2(Angle=angle)))\n",
    "\n",
    "print(sf)"
   ]
  },
  {
   "cell_type": "code",
   "execution_count": 3,
   "metadata": {},
   "outputs": [],
   "source": [
    "@jax.jit\n",
    "def cal_gradsquare(x, nn=0, corrected=False):\n",
    "\n",
    "    if corrected: k = 2*jnp.pi*jnp.fft.fftfreq(N-2*nn, d=dr)\n",
    "    else: k = 2*jnp.pi*jnp.fft.fftfreq(N, d=dr)\n",
    "    kx, ky, kz = jnp.meshgrid(k, k, k)\n",
    "    k_square = kx**2 + ky**2 + kz**2\n",
    "    xh = jnp.fft.fftn(x, axes=(1,2,3))\n",
    "    #px = jnp.fft.ifftn(kx*1j*xh, axes=(1,2,3)).real\n",
    "    #py = jnp.fft.ifftn(ky*1j*xh, axes=(1,2,3)).real\n",
    "    #pz = jnp.fft.ifftn(kz*1j*xh, axes=(1,2,3)).real\n",
    "    #return px**2 + py**2 + pz**2\n",
    "    p = jnp.fft.ifftn(k_square*xh, axes=(1,2,3)).real\n",
    "    return x*p\n"
   ]
  },
  {
   "cell_type": "code",
   "execution_count": 4,
   "metadata": {},
   "outputs": [
    {
     "name": "stderr",
     "output_type": "stream",
     "text": [
      "100%|██████████| 11/11 [00:56<00:00,  5.14s/it]"
     ]
    },
    {
     "name": "stdout",
     "output_type": "stream",
     "text": [
      "Het:[2.0288548258133587e-05, 3.4045097661986046e-05, 4.187385423336937e-05, 5.017986018807097e-05, 5.903260660921478e-05, 7.474404681726346e-05, 8.796129612822015e-05, 9.640244337073833e-05, 9.733913984819736e-05, 0.00010689451332963201, 0.0001279003314192534]\n"
     ]
    },
    {
     "name": "stderr",
     "output_type": "stream",
     "text": [
      "\n"
     ]
    }
   ],
   "source": [
    "\n",
    "def main(case, corrected=False):\n",
    "    eb = []\n",
    "    for gamma_ca in tqdm(g_ca):\n",
    "        if gamma_ca>1e-2:\n",
    "            Ac = (9*gamma_ca + 12*(gamma_bc - gamma_ab))/(4*jnp.sqrt(2)*Lambda)\n",
    "            Aa = (9*gamma_ca - 12*(gamma_bc - gamma_ab))/(4*jnp.sqrt(2)*Lambda)\n",
    "            Ab = 3*jnp.sqrt(2)*gamma_bc/Lambda - 4*Ac/3 - Aa/3 \n",
    "        else:\n",
    "            Ab = jnp.sqrt(2)*(9*gamma_bc + 12*(gamma_ab - gamma_ca))/(8*Lambda)\n",
    "            Ac = jnp.sqrt(2)*(9*gamma_bc - 12*(gamma_ab - gamma_ca))/(8*Lambda)\n",
    "            Aa = 3*jnp.sqrt(2)*gamma_ab/Lambda - 4*Ab/3 - Ac/3\n",
    "        A = jnp.array([Aa, Ab, Ac])\n",
    "        C = jnp.max(A + jnp.roll(A, 1))/6\n",
    "\n",
    "        u = jnp.load(f\"Nucleation_ZTS/TernaryMix/3d/Output/AsymmetricCase/Data-InterfaceWidth-0.024/gamma_ac-{gamma_ca}/{case}/concentration.npy\")\n",
    "        if not corrected:\n",
    "            ua = u[0]\n",
    "            ub = u[1]\n",
    "            uc = u[2]\n",
    "            \n",
    "            bulk_term = Aa*jnp.power(ua, 2)*jnp.power(ua-1, 2) + Ab*jnp.power(ub, 2)*jnp.power(ub-1, 2) + Ac*jnp.power(uc, 2)*jnp.power(uc-1, 2) + C*(jnp.power(ua,2)*jnp.power(ub, 2) + jnp.power(ua,2)*jnp.power(uc,2) + jnp.power(uc,2)*jnp.power(ub,2) + jnp.power(1-ua,2)*jnp.power(1-ub,2)*jnp.power(1-uc,2))\n",
    "            \n",
    "            Wa = jnp.power(Lambda, 2)*(Aa + C)\n",
    "            Wb = jnp.power(Lambda, 2)*(Ab + C)\n",
    "            Wc = jnp.power(Lambda, 2)*(Ac + C)\n",
    "\n",
    "            interface_term = Wa*cal_gradsquare(ua)/2 + Wb*cal_gradsquare(ub)/2 + Wc*cal_gradsquare(uc)/2\n",
    "\n",
    "            G = jnp.mean(bulk_term + interface_term, axis=(1,2,3))\n",
    "            critical_index = jnp.argmax(G)\n",
    "            barrier = G[critical_index] - G[0]\n",
    "            eb.append(float(barrier))\n",
    "        else:\n",
    "            nn = 8\n",
    "            #ua = u[0, :, nn:N-nn+1, nn:N-nn+1, nn:N-nn+1]\n",
    "            #ub = u[1, :, nn:N-nn+1, nn:N-nn+1, nn:N-nn+1]\n",
    "            #uc = u[2, :, nn:N-nn+1, nn:N-nn+1, nn:N-nn+1]\n",
    "            ua = u[0, :, nn:N-nn, nn:N-nn, nn:N-nn]\n",
    "            ub = u[1, :, nn:N-nn, nn:N-nn, nn:N-nn]\n",
    "            uc = u[2, :, nn:N-nn, nn:N-nn, nn:N-nn]\n",
    "\n",
    "            bulk_term = Aa*jnp.power(ua, 2)*jnp.power(ua-1, 2) + Ab*jnp.power(ub, 2)*jnp.power(ub-1, 2) + Ac*jnp.power(uc, 2)*jnp.power(uc-1, 2) + C*(jnp.power(ua,2)*jnp.power(ub, 2) + jnp.power(ua,2)*jnp.power(uc,2) + jnp.power(uc,2)*jnp.power(ub,2) + jnp.power(1-ua,2)*jnp.power(1-ub,2)*jnp.power(1-uc,2))\n",
    "            \n",
    "            Wa = jnp.power(Lambda, 2)*(Aa + C)\n",
    "            Wb = jnp.power(Lambda, 2)*(Ab + C)\n",
    "            Wc = jnp.power(Lambda, 2)*(Ac + C)\n",
    "\n",
    "            interface_term = Wa*cal_gradsquare(ua, nn=nn, corrected=True)/2 + Wb*cal_gradsquare(ub, nn=nn, corrected=True)/2 + Wc*cal_gradsquare(uc, nn=nn, corrected=True)/2\n",
    "\n",
    "            G = jnp.mean(bulk_term + interface_term, axis=(1,2,3))\n",
    "            critical_index = jnp.argmax(G)\n",
    "            barrier = G[critical_index] - G[0]\n",
    "            eb.append(float(barrier))\n",
    "\n",
    "    return eb\n",
    "\n",
    "eb_het = main(case=\"heterogeneous\", corrected=False)\n",
    "#eb_hom = main(case=\"homogeneous\")\n",
    "print(f\"Het:{eb_het}\")\n",
    "#print(f\"Hom:{eb_hom}\")"
   ]
  },
  {
   "cell_type": "code",
   "execution_count": 5,
   "metadata": {},
   "outputs": [
    {
     "name": "stderr",
     "output_type": "stream",
     "text": [
      "  0%|          | 0/11 [00:00<?, ?it/s]"
     ]
    },
    {
     "name": "stderr",
     "output_type": "stream",
     "text": [
      "100%|██████████| 11/11 [00:27<00:00,  2.52s/it]"
     ]
    },
    {
     "name": "stdout",
     "output_type": "stream",
     "text": [
      "Hom:[7.630913137519207e-05, 0.00013736256479966041, 0.00017692025288890134, 0.00022440487069472909, 0.0002784414527414042, 0.00032582595547409055, 0.0003892128943211136, 0.00032714392910357035, 0.0002837830759279125, 0.0002523034254129329, 0.00021152046215831138]\n"
     ]
    },
    {
     "name": "stderr",
     "output_type": "stream",
     "text": [
      "\n"
     ]
    }
   ],
   "source": [
    "def main2(case, corrected=False):\n",
    "    eb = []\n",
    "    for gamma_ca in tqdm(g_ca):\n",
    "        if gamma_ca>1e-2:\n",
    "            Ac = (9*gamma_ca + 12*(gamma_bc - gamma_ab))/(4*jnp.sqrt(2)*Lambda)\n",
    "            Aa = (9*gamma_ca - 12*(gamma_bc - gamma_ab))/(4*jnp.sqrt(2)*Lambda)\n",
    "            Ab = 3*jnp.sqrt(2)*gamma_bc/Lambda - 4*Ac/3 - Aa/3 \n",
    "        else:\n",
    "            Ab = jnp.sqrt(2)*(9*gamma_bc + 12*(gamma_ab - gamma_ca))/(8*Lambda)\n",
    "            Ac = jnp.sqrt(2)*(9*gamma_bc - 12*(gamma_ab - gamma_ca))/(8*Lambda)\n",
    "            Aa = 3*jnp.sqrt(2)*gamma_ab/Lambda - 4*Ab/3 - Ac/3\n",
    "        A = jnp.array([Aa, Ab, Ac])\n",
    "        C = jnp.max(A + jnp.roll(A, 1))/6\n",
    "\n",
    "        u = jnp.load(f\"Nucleation_ZTS/TernaryMix/3d/Output/AsymmetricCase/Data-InterfaceWidth-0.024/gamma_ac-{gamma_ca}/{case}/concentration.npy\")\n",
    "        if not corrected:\n",
    "            ua = u[0]\n",
    "            ub = u[1]\n",
    "            uc = u[2]\n",
    "            \n",
    "            bulk_term = Aa*jnp.power(ua, 2)*jnp.power(ua-1, 2) + Ab*jnp.power(ub, 2)*jnp.power(ub-1, 2) + Ac*jnp.power(uc, 2)*jnp.power(uc-1, 2) + C*(jnp.power(ua,2)*jnp.power(ub, 2) + jnp.power(ua,2)*jnp.power(uc,2) + jnp.power(uc,2)*jnp.power(ub,2) + jnp.power(1-ua,2)*jnp.power(1-ub,2)*jnp.power(1-uc,2))\n",
    "            \n",
    "            Wa = jnp.power(Lambda, 2)*(Aa + C)\n",
    "            Wb = jnp.power(Lambda, 2)*(Ab + C)\n",
    "            Wc = jnp.power(Lambda, 2)*(Ac + C)\n",
    "\n",
    "            interface_term = Wa*cal_gradsquare(ua)/2 + Wb*cal_gradsquare(ub)/2 + Wc*cal_gradsquare(uc)/2\n",
    "\n",
    "            G = jnp.mean(bulk_term + interface_term, axis=(1,2,3))\n",
    "            critical_index = jnp.argmax(G[:30])\n",
    "            barrier = G[critical_index] - G[0]\n",
    "            eb.append(float(barrier))\n",
    "        else:\n",
    "            nn = 0\n",
    "            #ua = u[0, :, nn:N-nn+1, nn:N-nn+1, nn:N-nn+1]\n",
    "            #ub = u[1, :, nn:N-nn+1, nn:N-nn+1, nn:N-nn+1]\n",
    "            #uc = u[2, :, nn:N-nn+1, nn:N-nn+1, nn:N-nn+1]\n",
    "            ua = u[0, :, nn:N-nn, nn:N-nn, nn:N-nn]\n",
    "            ub = u[1, :, nn:N-nn, nn:N-nn, nn:N-nn]\n",
    "            uc = u[2, :, nn:N-nn, nn:N-nn, nn:N-nn]\n",
    "\n",
    "            bulk_term = Aa*jnp.power(ua, 2)*jnp.power(ua-1, 2) + Ab*jnp.power(ub, 2)*jnp.power(ub-1, 2) + Ac*jnp.power(uc, 2)*jnp.power(uc-1, 2) + C*(jnp.power(ua,2)*jnp.power(ub, 2) + jnp.power(ua,2)*jnp.power(uc,2) + jnp.power(uc,2)*jnp.power(ub,2) + jnp.power(1-ua,2)*jnp.power(1-ub,2)*jnp.power(1-uc,2))\n",
    "            \n",
    "            Wa = jnp.power(Lambda, 2)*(Aa + C)\n",
    "            Wb = jnp.power(Lambda, 2)*(Ab + C)\n",
    "            Wc = jnp.power(Lambda, 2)*(Ac + C)\n",
    "\n",
    "            interface_term = Wa*cal_gradsquare(ua, nn=nn, corrected=True)/2 + Wb*cal_gradsquare(ub, nn=nn, corrected=True)/2 + Wc*cal_gradsquare(uc, nn=nn, corrected=True)/2\n",
    "\n",
    "            G = jnp.mean(bulk_term + interface_term, axis=(1,2,3))\n",
    "            critical_index = jnp.argmax(G[:30])\n",
    "            barrier = G[critical_index] - G[0]\n",
    "            eb.append(float(barrier))\n",
    "\n",
    "    return eb\n",
    "eb_hom = main2(case=\"homogeneous\", corrected=False)\n",
    "print(f\"Hom:{eb_hom}\")"
   ]
  },
  {
   "cell_type": "code",
   "execution_count": 6,
   "metadata": {},
   "outputs": [
    {
     "name": "stderr",
     "output_type": "stream",
     "text": [
      "  0%|          | 0/11 [00:00<?, ?it/s]"
     ]
    },
    {
     "name": "stdout",
     "output_type": "stream",
     "text": [
      "case gamma_ac = 0.003, mean_ua = 0.9732426242326498, mean_ub = -0.004155769443797863, mean_uc = 0.03201087112768472, sum 1.0010977259165368\n"
     ]
    },
    {
     "name": "stderr",
     "output_type": "stream",
     "text": [
      "  9%|▉         | 1/11 [00:02<00:24,  2.49s/it]"
     ]
    },
    {
     "name": "stdout",
     "output_type": "stream",
     "text": [
      "极大值对应的r值:0.07358161079185009, 极大值:6.758763908411414e-05\n",
      "\n"
     ]
    },
    {
     "name": "stderr",
     "output_type": "stream",
     "text": [
      " 18%|█▊        | 2/11 [00:03<00:16,  1.85s/it]"
     ]
    },
    {
     "name": "stdout",
     "output_type": "stream",
     "text": [
      "case gamma_ac = 0.005, mean_ua = 0.9767076236409554, mean_ub = -0.006956376982707957, mean_uc = 0.032426254351124326, sum 1.0021775010093716\n",
      "极大值对应的r值:0.07742324348693308, 极大值:0.00012457741247463432\n",
      "\n"
     ]
    },
    {
     "name": "stderr",
     "output_type": "stream",
     "text": [
      " 27%|██▋       | 3/11 [00:05<00:13,  1.71s/it]"
     ]
    },
    {
     "name": "stdout",
     "output_type": "stream",
     "text": [
      "case gamma_ac = 0.006, mean_ua = 0.9784934084468467, mean_ub = -0.008321208763235832, mean_uc = 0.0325298159402551, sum 1.002702015623866\n",
      "极大值对应的r值:0.07976475803958699, 极大值:0.0001585555429921229\n",
      "\n"
     ]
    },
    {
     "name": "stderr",
     "output_type": "stream",
     "text": [
      " 36%|███▋      | 4/11 [00:06<00:11,  1.62s/it]"
     ]
    },
    {
     "name": "stdout",
     "output_type": "stream",
     "text": [
      "case gamma_ac = 0.007, mean_ua = 0.9784934084468467, mean_ub = -0.008321208763235832, mean_uc = 0.0325298159402551, sum 1.002702015623866\n",
      "极大值对应的r值:0.07984047523821132, 极大值:0.0001853277596709202\n",
      "\n"
     ]
    },
    {
     "name": "stderr",
     "output_type": "stream",
     "text": [
      " 45%|████▌     | 5/11 [00:08<00:09,  1.57s/it]"
     ]
    },
    {
     "name": "stdout",
     "output_type": "stream",
     "text": [
      "case gamma_ac = 0.008, mean_ua = 0.9813096340836018, mean_ub = -0.01084687772388489, mean_uc = 0.03267512632222638, sum 1.0031378826819433\n",
      "极大值对应的r值:0.08387913847747334, 极大值:0.0002334518986213398\n",
      "\n"
     ]
    },
    {
     "name": "stderr",
     "output_type": "stream",
     "text": [
      " 55%|█████▍    | 6/11 [00:10<00:07,  1.59s/it]"
     ]
    },
    {
     "name": "stdout",
     "output_type": "stream",
     "text": [
      "case gamma_ac = 0.009, mean_ua = 0.9835493151329435, mean_ub = -0.012300785558553861, mean_uc = 0.03272859134790582, sum 1.0039771209222954\n",
      "极大值对应的r值:0.08761375588484199, 极大值:0.00028613943965084083\n",
      "\n"
     ]
    },
    {
     "name": "stderr",
     "output_type": "stream",
     "text": [
      " 64%|██████▎   | 7/11 [00:11<00:06,  1.51s/it]"
     ]
    },
    {
     "name": "stdout",
     "output_type": "stream",
     "text": [
      "case gamma_ac = 0.01, mean_ua = -0.01362626326367994, mean_ub = 0.9850594789978799, mean_uc = 0.03277874512633798, sum 1.004211960860538\n",
      "极大值对应的r值:0.09035601806000315, 极大值:0.00033777040492540076\n",
      "\n"
     ]
    },
    {
     "name": "stderr",
     "output_type": "stream",
     "text": [
      " 73%|███████▎  | 8/11 [00:12<00:04,  1.49s/it]"
     ]
    },
    {
     "name": "stdout",
     "output_type": "stream",
     "text": [
      "case gamma_ac = 0.011, mean_ua = -0.012517888846200219, mean_ub = 0.9832382712602781, mean_uc = 0.03277044663232546, sum 1.0034908290464033\n",
      "极大值对应的r值:0.08437338030223057, 极大值:0.0002952119145005549\n",
      "\n"
     ]
    },
    {
     "name": "stderr",
     "output_type": "stream",
     "text": [
      " 82%|████████▏ | 9/11 [00:14<00:02,  1.49s/it]"
     ]
    },
    {
     "name": "stdout",
     "output_type": "stream",
     "text": [
      "case gamma_ac = 0.012, mean_ua = -0.011344381715354417, mean_ub = 0.9813353861772266, mean_uc = 0.03276525781535962, sum 1.0027562622772317\n",
      "极大值对应的r值:0.07962596471860899, 极大值:0.0002633528649715986\n",
      "\n"
     ]
    },
    {
     "name": "stderr",
     "output_type": "stream",
     "text": [
      " 91%|█████████ | 10/11 [00:15<00:01,  1.52s/it]"
     ]
    },
    {
     "name": "stdout",
     "output_type": "stream",
     "text": [
      "case gamma_ac = 0.013, mean_ua = -0.010091323841760196, mean_ub = 0.9793400245453957, mean_uc = 0.032763556532490336, sum 1.0020122572361259\n",
      "极大值对应的r值:0.07583865854825264, 极大值:0.0002391738098489793\n",
      "\n"
     ]
    },
    {
     "name": "stderr",
     "output_type": "stream",
     "text": [
      "100%|██████████| 11/11 [00:17<00:00,  1.58s/it]"
     ]
    },
    {
     "name": "stdout",
     "output_type": "stream",
     "text": [
      "case gamma_ac = 0.015, mean_ua = -0.007339130640827217, mean_ub = 0.9751330506875053, mean_uc = 0.0327729393148411, sum 1.0005668593615191\n",
      "极大值对应的r值:0.07052494133246018, 极大值:0.00020712946068452017\n",
      "\n",
      "Theo Het:[2.9992014843575655e-05, 5.0609573817820194e-05, 6.144027290944764e-05, 6.833961137865182e-05, 8.17081645174689e-05, 9.478368938434101e-05, 0.00010555325153918774, 0.00011542232334632008, 0.00012514528143450364, 0.00013465037043604067, 0.0001529197971459934]\n",
      "Theo Hom:[6.758763908411414e-05, 0.00012457741247463432, 0.0001585555429921229, 0.0001853277596709202, 0.0002334518986213398, 0.00028613943965084083, 0.00033777040492540076, 0.0002952119145005549, 0.0002633528649715986, 0.0002391738098489793, 0.00020712946068452017]\n"
     ]
    },
    {
     "name": "stderr",
     "output_type": "stream",
     "text": [
      "\n"
     ]
    }
   ],
   "source": [
    "from scipy.optimize import fsolve\n",
    "\n",
    "g_sf_dict = dict(zip(g_ca, sf))\n",
    "def cal_theo_eb_hom(g_ca):\n",
    "    ## THE ITERATION PARAMETERs\n",
    "    #physical parameters\n",
    "    delta = 0.024 #interface width\n",
    "    Lambda = jnp.sqrt(2)*delta/4\n",
    "    N = 128\n",
    "\n",
    "    gamma_ca = g_ca #interface energy between components A,B\n",
    "    gamma_bc = 1e-2\n",
    "    gamma_ab = 1e-2\n",
    "\n",
    "    if gamma_ca>1e-2:\n",
    "        Ac = (9*gamma_ca + 12*(gamma_bc - gamma_ab))/(4*jnp.sqrt(2)*Lambda)\n",
    "        Aa = (9*gamma_ca - 12*(gamma_bc - gamma_ab))/(4*jnp.sqrt(2)*Lambda)\n",
    "        Ab = 3*jnp.sqrt(2)*gamma_bc/Lambda - 4*Ac/3 - Aa/3 \n",
    "    else:\n",
    "        Ab = jnp.sqrt(2)*(9*gamma_bc + 12*(gamma_ab - gamma_ca))/(8*Lambda)\n",
    "        Ac = jnp.sqrt(2)*(9*gamma_bc - 12*(gamma_ab - gamma_ca))/(8*Lambda)\n",
    "        Aa = 3*jnp.sqrt(2)*gamma_ab/Lambda - 4*Ab/3 - Ac/3\n",
    "    A = jnp.array([Aa, Ab, Ac])\n",
    "    C = jnp.max(A + jnp.roll(A, 1))/6\n",
    "\n",
    "    rc = 0.2 # the final radius of conponent C\n",
    "    fai = 4*jnp.pi*jnp.power(rc,3)/3 #The mean concentration of component c\n",
    "    eps = 1e-14 \n",
    "\n",
    "    def ChemicalPotential(i, ua, ub, uc):\n",
    "        P = jnp.power(1-ua, 2)*jnp.power(1-ub, 2)*jnp.power(1-uc, 2)\n",
    "        S = jnp.power(ua, 2)+jnp.power(ub, 2)+jnp.power(uc, 2)\n",
    "        u = [ua, ub, uc]\n",
    "        mu_i = 2*A[i]*u[i]*(1 - u[i])*(1 - 2*u[i]) + 2*C*(u[i]*(S - u[i]**2) - (1-u[i])*(P + eps)/(jnp.power(1-u[i], 2) + eps))\n",
    "        return mu_i\n",
    "\n",
    "    #compute the free energy (bulk + interface)\n",
    "    def energy(ua, ub, uc):\n",
    "        bulk_term = Aa*jnp.power(ua, 2)*jnp.power(ua-1, 2) + Ab*jnp.power(ub, 2)*jnp.power(ub-1, 2) + Ac*jnp.power(uc, 2)*jnp.power(uc-1, 2) + C*(jnp.power(ua,2)*jnp.power(ub, 2) + jnp.power(ua,2)*jnp.power(uc,2) + jnp.power(uc,2)*jnp.power(ub,2) + jnp.power(1-ua,2)*jnp.power(1-ub,2)*jnp.power(1-uc,2))\n",
    "        return bulk_term\n",
    "    \n",
    "    def get_mean_ua(ua0):\n",
    "        assert ua0.shape == (N, N, N), \"shape wrong\"\n",
    "        c = []\n",
    "        for k in range(10, 60, 5):\n",
    "        #for i in range(10, 128, 10):\n",
    "            c.append(np.mean(ua0[:, :, k]))\n",
    "        return sum(c)/len(c)\n",
    "\n",
    "    def get_mean_ub(ub0):\n",
    "        assert ub0.shape == (N, N, N), \"shape wrong\"\n",
    "        c = []\n",
    "        for k in range(10, 60, 5):\n",
    "        #for i in range(10, 128, 10):\n",
    "            c.append(np.mean(ub0[:, :, k]))\n",
    "        return sum(c)/len(c)\n",
    "    \n",
    "    def get_mean_ua2(ua0):\n",
    "        assert ua0.shape == (N, N, N), \"shape wrong\"\n",
    "        c = []\n",
    "        for k in range(80, 120, 5):\n",
    "        #for i in range(10, 128, 10):\n",
    "            c.append(np.mean(ua0[:, :, k]))\n",
    "        return sum(c)/len(c)\n",
    "\n",
    "    def get_mean_ub2(ub0):\n",
    "        assert ub0.shape == (N, N, N), \"shape wrong\"\n",
    "        c = []\n",
    "        for k in range(80, 120, 5):\n",
    "        #for i in range(10, 128, 10):\n",
    "            c.append(np.mean(ub0[:, :, k]))\n",
    "        return sum(c)/len(c)\n",
    "    \n",
    "    def get_mean_uc(uc0):\n",
    "        assert uc0.shape == (N, N, N), \"shape wrong\"\n",
    "        c = []\n",
    "        for k in range(10, 120, 5):\n",
    "            c.append(np.mean(uc0[:, :, k]))\n",
    "        return sum(c)/len(c)\n",
    "\n",
    "    def critical_Delta_F():\n",
    "        u = jnp.load(f\"Nucleation_ZTS/TernaryMix/3d/Output/AsymmetricCase/Data-InterfaceWidth-0.024/gamma_ac-{g_ca}/homogeneous/concentration.npy\")\n",
    "        ua0 = u[0, 0, :, :, :]\n",
    "        ub0 = u[1, 0, :, :, :]\n",
    "        uc0 = u[2, 0, :, :, :]\n",
    "        if gamma_ca<1e-2:\n",
    "            mean_uc = get_mean_uc(uc0)\n",
    "            mean_ua = get_mean_ua(ua0)\n",
    "            mean_ub = get_mean_ub(ub0)\n",
    "            print(f\"case gamma_ac = {g_ca}, mean_ua = {mean_ua}, mean_ub = {mean_ub}, mean_uc = {mean_uc}, sum {mean_ua+ mean_ub + mean_uc}\")\n",
    "\n",
    "            ua0 = mean_ua\n",
    "            ub0 = mean_ub\n",
    "            uc0 = mean_uc\n",
    "\n",
    "            ua1 = 0\n",
    "            ub1 = 0\n",
    "            uc1 = 1\n",
    "\n",
    "            ua2 = 1\n",
    "            ub2 = 0\n",
    "            uc2 = 0\n",
    "\n",
    "            f0 = energy(ua=ua0, ub=ub0, uc=uc0) \n",
    "            f1 = energy(ua=ua1, ub=ub1, uc=uc1)\n",
    "\n",
    "            mu_a0 = ChemicalPotential(0, ua=ua0, ub=ub0, uc=uc0)\n",
    "            mu_b0 = ChemicalPotential(1, ua=ua0, ub=ub0, uc=uc0)\n",
    "            mu_c0 = ChemicalPotential(2, ua=ua0, ub=ub0, uc=uc0)\n",
    "            \n",
    "            df = f1 - f0\n",
    "            k = (ua2 - ua1)*mu_a0 + (uc2 - uc1)*mu_c0 + (ub2 - ub1)*mu_b0\n",
    "            def equation(x):\n",
    "                return (df + k)*x - 16*jnp.pi*k*(x**4)/3 + 2*gamma_ca\n",
    "            Rc = fsolve(equation, 0)[0]\n",
    "            \n",
    "            DFc = (f1 - f0)*(4*jnp.pi*(Rc**3)/3) + ((ua2 - ua1)*mu_a0 + (ub2 - ub1)*mu_b0 + (uc2 - uc1)*mu_c0)*(4*jnp.pi*(Rc**3)/3)*(1 - 8*jnp.pi*(Rc**3)/3) + 4*jnp.pi*(Rc**2)*gamma_ca\n",
    "            \n",
    "            return Rc, DFc\n",
    "        else:\n",
    "            mean_uc = get_mean_uc(uc0)\n",
    "            mean_ua = get_mean_ua2(ua0)\n",
    "            mean_ub = get_mean_ub2(ub0)\n",
    "            print(f\"case gamma_ac = {g_ca}, mean_ua = {mean_ua}, mean_ub = {mean_ub}, mean_uc = {mean_uc}, sum {mean_ua+ mean_ub + mean_uc}\")\n",
    "\n",
    "            ua0 = mean_ua\n",
    "            ub0 = mean_ub\n",
    "            uc0 = mean_uc\n",
    "\n",
    "            ua1 = 0\n",
    "            ub1 = 0\n",
    "            uc1 = 1\n",
    "\n",
    "            ua2 = 0\n",
    "            ub2 = 1\n",
    "            uc2 = 0\n",
    "\n",
    "            f0 = energy(ua=ua0, ub=ub0, uc=uc0) \n",
    "            f1 = energy(ua=ua1, ub=ub1, uc=uc1)\n",
    "\n",
    "            mu_a0 = ChemicalPotential(0, ua=ua0, ub=ub0, uc=uc0)\n",
    "            mu_b0 = ChemicalPotential(1, ua=ua0, ub=ub0, uc=uc0)\n",
    "            mu_c0 = ChemicalPotential(2, ua=ua0, ub=ub0, uc=uc0)\n",
    "            \n",
    "            df = f1 - f0\n",
    "            k = (ua2 - ua1)*mu_a0 + (uc2 - uc1)*mu_c0 + (ub2 - ub1)*mu_b0\n",
    "            def equation(x):\n",
    "                return (df + k)*x - 16*jnp.pi*k*(x**4)/3 + 2*gamma_bc\n",
    "            Rc = fsolve(equation, 0)[0]\n",
    "            \n",
    "            DFc = (f1 - f0)*(4*jnp.pi*(Rc**3)/3) + ((ua2 - ua1)*mu_a0 + (ub2 - ub1)*mu_b0 + (uc2 - uc1)*mu_c0)*(4*jnp.pi*(Rc**3)/3)*(1 - 8*jnp.pi*(Rc**3)/3) + 4*jnp.pi*(Rc**2)*gamma_bc\n",
    "            \n",
    "            return Rc, DFc\n",
    "\n",
    "    theo_r, theo_eb_hom = critical_Delta_F()\n",
    "\n",
    "    return float(theo_r), float(theo_eb_hom)\n",
    "\n",
    "\n",
    "\n",
    "\n",
    "theo_hom = []\n",
    "theo_het = []\n",
    "theo_cr_hom = []\n",
    "theo_cr_het = []\n",
    "for gamma_ca in tqdm(g_ca):\n",
    "    theo_r, theo_eb_hom = cal_theo_eb_hom(g_ca=gamma_ca)\n",
    "    theo_eb_het = theo_eb_hom*g_sf_dict[gamma_ca]\n",
    "    theo_hom.append(theo_eb_hom)\n",
    "    theo_het.append(theo_eb_het)\n",
    "    theo_cr_hom.append(theo_r)\n",
    "\n",
    "print(f\"Theo Het:{theo_het}\")\n",
    "print(f\"Theo Hom:{theo_hom}\")"
   ]
  },
  {
   "cell_type": "code",
   "execution_count": 7,
   "metadata": {},
   "outputs": [
    {
     "data": {
      "image/png": "[encoded data removed]",
      "text/plain": [
       "<Figure size 900x400 with 2 Axes>"
      ]
     },
     "metadata": {},
     "output_type": "display_data"
    },
    {
     "name": "stdout",
     "output_type": "stream",
     "text": [
      "low:0.1809744609150272\n",
      " high:0.4008492652575397\n",
      "[0.40084927 0.38991153 0.38920752 0.3935917  0.39425474 0.30747566\n",
      " 0.27680673 0.24630915 0.2781872  0.24744484 0.18097446]\n",
      "[0.2658731385419668, 0.24784844190729766, 0.23668208443984323, 0.2236130616627013, 0.21201084115891283, 0.2293986883534423, 0.22599789835238387, 0.29467899231661526, 0.3430054436118797, 0.4236744433995809, 0.6046711987775776]\n"
     ]
    }
   ],
   "source": [
    "import numpy as np\n",
    "import matplotlib.pyplot as plt\n",
    "import matplotlib.patches as mpatches\n",
    "import matplotlib.pylab as pylabs\n",
    "from matplotlib.ticker import ScalarFormatter\n",
    "plt.rcParams['axes.prop_cycle'] = plt.cycler(color=plt.cm.Set1.colors)\n",
    "myparams = {\n",
    "\n",
    "   'axes.labelsize': '13',\n",
    "\n",
    "   'xtick.labelsize': '11',\n",
    "\n",
    "   'ytick.labelsize': '11',\n",
    "\n",
    "   'lines.linewidth': 1,\n",
    "\n",
    "   'legend.fontsize': '10',\n",
    "\n",
    "   'font.family': 'Times New Roman',\n",
    "\n",
    "   'figure.figsize': '9, 4'  #\n",
    "\n",
    "}\n",
    "pylabs.rcParams.update(myparams)  \n",
    "\n",
    "plt.figure()\n",
    "\n",
    "plt.subplot(1,2,1)\n",
    "\n",
    "plt.plot(g_ca, theo_hom, 'o--',  markersize=4, label='Theoretical $E_{b}^{hom}$')\n",
    "plt.plot(g_ca, eb_hom, 's-',  markersize=6, linewidth=0.7, label='Experimental $E_{b}^{hom}$')\n",
    "plt.plot(g_ca, theo_het, 'x--',  markersize=4, label='Theoretical $E_{b}^{het}$')\n",
    "plt.plot(g_ca, eb_het, 'v-',  markersize=6, linewidth=0.7, label='Experimental $E_{b}^{het}$')\n",
    "\n",
    "plt.xlabel('Interface Energy $\\\\gamma_{ac}$')\n",
    "plt.ylabel('Energy Barrier ($E_{b}^{hom / het}$)')\n",
    "plt.title(\"Energy Barriers\", fontsize=14)\n",
    "plt.ticklabel_format(axis='y', style='sci', scilimits=(0,0))\n",
    "\n",
    "plt.legend(loc='lower left', frameon=True)\n",
    "plt.grid(True, linestyle='--', linewidth=0.5)\n",
    "\n",
    "plt.yscale('log', base=10)\n",
    "plt.xscale('log', base=10)\n",
    "plt.ylim(5e-6, 1e-3)\n",
    "\n",
    "interface_energy_vector = np.array(g_ca)\n",
    "numerical_shape_factor_vector = np.array(eb_het)/np.array(eb_hom)\n",
    "theoretical_shape_factor_vector = np.array(sf)\n",
    "\n",
    "plt.subplot(1,2,2)\n",
    "plt.plot(interface_energy_vector, theoretical_shape_factor_vector,  \"o--\", markersize=4, label='Theoretical shape factor')\n",
    "plt.plot(interface_energy_vector, numerical_shape_factor_vector, \"s-\", linewidth=0.7, markersize=6, label='Numerical shape factor')\n",
    "plt.legend(fontsize=12)\n",
    "plt.title(\"Shape factor\", fontsize=14)\n",
    "plt.xlabel('Interface Energy $\\\\gamma_{ac}$')\n",
    "plt.ylabel('Shape Factor')\n",
    "plt.grid(True, linestyle='--', linewidth=0.5)\n",
    "plt.ylim(0, 1)\n",
    "\n",
    "plt.tight_layout()\n",
    "plt.savefig(\"/home/ms/akrito/string-method-nucleation/correction/3d/nonsym/results.pdf\", dpi=1000, bbox_inches='tight')\n",
    "plt.show()\n",
    "\n",
    "relative_err = np.abs(numerical_shape_factor_vector - theoretical_shape_factor_vector)/theoretical_shape_factor_vector\n",
    "print(f\"low:{np.min(relative_err)}\\n high:{np.max(relative_err)}\")\n",
    "print(relative_err)\n",
    "\n",
    "print(list(numerical_shape_factor_vector))"
   ]
  }
 ],
 "metadata": {
  "kernelspec": {
   "display_name": "jax-gpu",
   "language": "python",
   "name": "python3"
  },
  "language_info": {
   "codemirror_mode": {
    "name": "ipython",
    "version": 3
   },
   "file_extension": ".py",
   "mimetype": "text/x-python",
   "name": "python",
   "nbconvert_exporter": "python",
   "pygments_lexer": "ipython3",
   "version": "3.9.13"
  }
 },
 "nbformat": 4,
 "nbformat_minor": 2
}
